{
 "cells": [
  {
   "cell_type": "code",
   "execution_count": 1,
   "metadata": {},
   "outputs": [
    {
     "name": "stdout",
     "output_type": "stream",
     "text": [
      "hello world\n"
     ]
    }
   ],
   "source": [
    "print(\"hello world\")\n"
   ]
  },
  {
   "cell_type": "code",
   "execution_count": 4,
   "metadata": {},
   "outputs": [],
   "source": [
    "import numpy as np\n",
    "import pandas as pd\n",
    "import matplotlib.pyplot as plt\n",
    "import seaborn as sns\n",
    "import mpl_toolkits\n",
    "%matplotlib inline\n"
   ]
  },
  {
   "cell_type": "code",
   "execution_count": 12,
   "metadata": {},
   "outputs": [],
   "source": [
    "data = pd.read_csv(r\"C:\\Users\\Administrator\\Desktop\\sunrise Hackathon\\trail.csv\")\n"
   ]
  },
  {
   "cell_type": "code",
   "execution_count": 13,
   "metadata": {},
   "outputs": [
    {
     "data": {
      "text/html": [
       "<div>\n",
       "<style scoped>\n",
       "    .dataframe tbody tr th:only-of-type {\n",
       "        vertical-align: middle;\n",
       "    }\n",
       "\n",
       "    .dataframe tbody tr th {\n",
       "        vertical-align: top;\n",
       "    }\n",
       "\n",
       "    .dataframe thead th {\n",
       "        text-align: right;\n",
       "    }\n",
       "</style>\n",
       "<table border=\"1\" class=\"dataframe\">\n",
       "  <thead>\n",
       "    <tr style=\"text-align: right;\">\n",
       "      <th></th>\n",
       "      <th>District</th>\n",
       "      <th>Kharif(2015-2016)</th>\n",
       "      <th>Rabi(2015-2016)</th>\n",
       "      <th>Total(2015-2016)</th>\n",
       "    </tr>\n",
       "  </thead>\n",
       "  <tbody>\n",
       "    <tr>\n",
       "      <th>0</th>\n",
       "      <td>SRIKAKULAM</td>\n",
       "      <td>0</td>\n",
       "      <td>0</td>\n",
       "      <td>0</td>\n",
       "    </tr>\n",
       "    <tr>\n",
       "      <th>1</th>\n",
       "      <td>VIZIANAGARAM</td>\n",
       "      <td>0</td>\n",
       "      <td>0</td>\n",
       "      <td>0</td>\n",
       "    </tr>\n",
       "    <tr>\n",
       "      <th>2</th>\n",
       "      <td>VISAKHAPATNAM</td>\n",
       "      <td>428</td>\n",
       "      <td>337</td>\n",
       "      <td>373</td>\n",
       "    </tr>\n",
       "    <tr>\n",
       "      <th>3</th>\n",
       "      <td>EASTGODAVARI</td>\n",
       "      <td>878</td>\n",
       "      <td>866</td>\n",
       "      <td>866</td>\n",
       "    </tr>\n",
       "    <tr>\n",
       "      <th>4</th>\n",
       "      <td>WESTGODAVARI</td>\n",
       "      <td>878</td>\n",
       "      <td>216</td>\n",
       "      <td>260</td>\n",
       "    </tr>\n",
       "  </tbody>\n",
       "</table>\n",
       "</div>"
      ],
      "text/plain": [
       "        District  Kharif(2015-2016)  Rabi(2015-2016)  Total(2015-2016)\n",
       "0     SRIKAKULAM                  0                0                 0\n",
       "1   VIZIANAGARAM                  0                0                 0\n",
       "2  VISAKHAPATNAM                428              337               373\n",
       "3   EASTGODAVARI                878              866               866\n",
       "4   WESTGODAVARI                878              216               260"
      ]
     },
     "execution_count": 13,
     "metadata": {},
     "output_type": "execute_result"
    }
   ],
   "source": [
    "data.head()"
   ]
  },
  {
   "cell_type": "code",
   "execution_count": 15,
   "metadata": {},
   "outputs": [
    {
     "data": {
      "text/html": [
       "<div>\n",
       "<style scoped>\n",
       "    .dataframe tbody tr th:only-of-type {\n",
       "        vertical-align: middle;\n",
       "    }\n",
       "\n",
       "    .dataframe tbody tr th {\n",
       "        vertical-align: top;\n",
       "    }\n",
       "\n",
       "    .dataframe thead th {\n",
       "        text-align: right;\n",
       "    }\n",
       "</style>\n",
       "<table border=\"1\" class=\"dataframe\">\n",
       "  <thead>\n",
       "    <tr style=\"text-align: right;\">\n",
       "      <th></th>\n",
       "      <th>Kharif(2015-2016)</th>\n",
       "      <th>Rabi(2015-2016)</th>\n",
       "      <th>Total(2015-2016)</th>\n",
       "    </tr>\n",
       "  </thead>\n",
       "  <tbody>\n",
       "    <tr>\n",
       "      <th>count</th>\n",
       "      <td>14.000000</td>\n",
       "      <td>14.00000</td>\n",
       "      <td>14.000000</td>\n",
       "    </tr>\n",
       "    <tr>\n",
       "      <th>mean</th>\n",
       "      <td>499.500000</td>\n",
       "      <td>425.00000</td>\n",
       "      <td>516.500000</td>\n",
       "    </tr>\n",
       "    <tr>\n",
       "      <th>std</th>\n",
       "      <td>439.575801</td>\n",
       "      <td>368.22819</td>\n",
       "      <td>372.762195</td>\n",
       "    </tr>\n",
       "    <tr>\n",
       "      <th>min</th>\n",
       "      <td>0.000000</td>\n",
       "      <td>0.00000</td>\n",
       "      <td>0.000000</td>\n",
       "    </tr>\n",
       "    <tr>\n",
       "      <th>25%</th>\n",
       "      <td>0.000000</td>\n",
       "      <td>89.25000</td>\n",
       "      <td>279.750000</td>\n",
       "    </tr>\n",
       "    <tr>\n",
       "      <th>50%</th>\n",
       "      <td>474.500000</td>\n",
       "      <td>327.00000</td>\n",
       "      <td>451.000000</td>\n",
       "    </tr>\n",
       "    <tr>\n",
       "      <th>75%</th>\n",
       "      <td>878.000000</td>\n",
       "      <td>854.75000</td>\n",
       "      <td>864.500000</td>\n",
       "    </tr>\n",
       "    <tr>\n",
       "      <th>max</th>\n",
       "      <td>1232.000000</td>\n",
       "      <td>934.00000</td>\n",
       "      <td>1045.000000</td>\n",
       "    </tr>\n",
       "  </tbody>\n",
       "</table>\n",
       "</div>"
      ],
      "text/plain": [
       "       Kharif(2015-2016)  Rabi(2015-2016)  Total(2015-2016)\n",
       "count          14.000000         14.00000         14.000000\n",
       "mean          499.500000        425.00000        516.500000\n",
       "std           439.575801        368.22819        372.762195\n",
       "min             0.000000          0.00000          0.000000\n",
       "25%             0.000000         89.25000        279.750000\n",
       "50%           474.500000        327.00000        451.000000\n",
       "75%           878.000000        854.75000        864.500000\n",
       "max          1232.000000        934.00000       1045.000000"
      ]
     },
     "execution_count": 15,
     "metadata": {},
     "output_type": "execute_result"
    }
   ],
   "source": [
    "data.describe()"
   ]
  },
  {
   "cell_type": "code",
   "execution_count": 104,
   "metadata": {},
   "outputs": [],
   "source": [
    "data = pd.read_csv(r\"C:\\Users\\Administrator\\Desktop\\sunrise Hackathon\\trail.csv\")"
   ]
  },
  {
   "cell_type": "code",
   "execution_count": 106,
   "metadata": {},
   "outputs": [
    {
     "data": {
      "text/html": [
       "<div>\n",
       "<style scoped>\n",
       "    .dataframe tbody tr th:only-of-type {\n",
       "        vertical-align: middle;\n",
       "    }\n",
       "\n",
       "    .dataframe tbody tr th {\n",
       "        vertical-align: top;\n",
       "    }\n",
       "\n",
       "    .dataframe thead th {\n",
       "        text-align: right;\n",
       "    }\n",
       "</style>\n",
       "<table border=\"1\" class=\"dataframe\">\n",
       "  <thead>\n",
       "    <tr style=\"text-align: right;\">\n",
       "      <th></th>\n",
       "      <th>Kharif</th>\n",
       "      <th>Rabi</th>\n",
       "      <th>Total</th>\n",
       "      <th>Rainfall</th>\n",
       "      <th>Rainfall receive (October to December)</th>\n",
       "    </tr>\n",
       "  </thead>\n",
       "  <tbody>\n",
       "    <tr>\n",
       "      <th>count</th>\n",
       "      <td>13.000000</td>\n",
       "      <td>13.000000</td>\n",
       "      <td>13.000000</td>\n",
       "      <td>13.000000</td>\n",
       "      <td>13.000000</td>\n",
       "    </tr>\n",
       "    <tr>\n",
       "      <th>mean</th>\n",
       "      <td>3228.923077</td>\n",
       "      <td>3588.076923</td>\n",
       "      <td>3844.384615</td>\n",
       "      <td>540.776923</td>\n",
       "      <td>1.615385</td>\n",
       "    </tr>\n",
       "    <tr>\n",
       "      <th>std</th>\n",
       "      <td>1878.084683</td>\n",
       "      <td>1426.390460</td>\n",
       "      <td>1483.222311</td>\n",
       "      <td>220.761365</td>\n",
       "      <td>0.506370</td>\n",
       "    </tr>\n",
       "    <tr>\n",
       "      <th>min</th>\n",
       "      <td>0.000000</td>\n",
       "      <td>1692.000000</td>\n",
       "      <td>1567.000000</td>\n",
       "      <td>307.000000</td>\n",
       "      <td>1.000000</td>\n",
       "    </tr>\n",
       "    <tr>\n",
       "      <th>25%</th>\n",
       "      <td>3011.000000</td>\n",
       "      <td>2755.000000</td>\n",
       "      <td>3004.000000</td>\n",
       "      <td>341.000000</td>\n",
       "      <td>1.000000</td>\n",
       "    </tr>\n",
       "    <tr>\n",
       "      <th>50%</th>\n",
       "      <td>4009.000000</td>\n",
       "      <td>2926.000000</td>\n",
       "      <td>3782.000000</td>\n",
       "      <td>518.400000</td>\n",
       "      <td>2.000000</td>\n",
       "    </tr>\n",
       "    <tr>\n",
       "      <th>75%</th>\n",
       "      <td>4080.000000</td>\n",
       "      <td>4176.000000</td>\n",
       "      <td>4346.000000</td>\n",
       "      <td>738.000000</td>\n",
       "      <td>2.000000</td>\n",
       "    </tr>\n",
       "    <tr>\n",
       "      <th>max</th>\n",
       "      <td>6080.000000</td>\n",
       "      <td>6619.000000</td>\n",
       "      <td>6619.000000</td>\n",
       "      <td>879.800000</td>\n",
       "      <td>2.000000</td>\n",
       "    </tr>\n",
       "  </tbody>\n",
       "</table>\n",
       "</div>"
      ],
      "text/plain": [
       "            Kharif         Rabi        Total    Rainfall  \\\n",
       "count    13.000000    13.000000    13.000000   13.000000   \n",
       "mean   3228.923077  3588.076923  3844.384615  540.776923   \n",
       "std    1878.084683  1426.390460  1483.222311  220.761365   \n",
       "min       0.000000  1692.000000  1567.000000  307.000000   \n",
       "25%    3011.000000  2755.000000  3004.000000  341.000000   \n",
       "50%    4009.000000  2926.000000  3782.000000  518.400000   \n",
       "75%    4080.000000  4176.000000  4346.000000  738.000000   \n",
       "max    6080.000000  6619.000000  6619.000000  879.800000   \n",
       "\n",
       "       Rainfall receive (October to December)   \n",
       "count                                13.000000  \n",
       "mean                                  1.615385  \n",
       "std                                   0.506370  \n",
       "min                                   1.000000  \n",
       "25%                                   1.000000  \n",
       "50%                                   2.000000  \n",
       "75%                                   2.000000  \n",
       "max                                   2.000000  "
      ]
     },
     "execution_count": 106,
     "metadata": {},
     "output_type": "execute_result"
    }
   ],
   "source": [
    "data.describe()"
   ]
  },
  {
   "cell_type": "code",
   "execution_count": 107,
   "metadata": {},
   "outputs": [
    {
     "name": "stdout",
     "output_type": "stream",
     "text": [
      "         District  Kharif  Rabi  Total  Rainfall  \\\n",
      "0      SRIKAKULAM    4080  4133   4132     641.2   \n",
      "1    VIZIANAGARAM    4080  1692   1947     807.7   \n",
      "2   VISAKHAPATNAM     687  1933   1567     879.8   \n",
      "3    EASTGODAVARI    4672  5479   5401     813.6   \n",
      "4    WESTGODAVARI    4080  2926   3411     738.0   \n",
      "5         KRISHNA    6080  3915   5940     643.1   \n",
      "6          GUNTUR    4009  4752   4032     518.4   \n",
      "7        PRAKASAM    3673  4176   3782     342.9   \n",
      "8   S.P.S.NELLORE       0  6619   6619     307.0   \n",
      "9    Y.S.R.KADAPA    4550  2755   4346     346.3   \n",
      "10        KURNOOL    3011  2755   3004     331.6   \n",
      "11     ANANTHAPUR    3054  2755   3041     319.5   \n",
      "12       CHITTOOR       0  2755   2755     341.0   \n",
      "\n",
      "    Rainfall receive (October to December)   \n",
      "0                                         1  \n",
      "1                                         1  \n",
      "2                                         2  \n",
      "3                                         2  \n",
      "4                                         2  \n",
      "5                                         2  \n",
      "6                                         1  \n",
      "7                                         2  \n",
      "8                                         1  \n",
      "9                                         2  \n",
      "10                                        2  \n",
      "11                                        2  \n",
      "12                                        1  \n"
     ]
    }
   ],
   "source": [
    "print(data)"
   ]
  },
  {
   "cell_type": "code",
   "execution_count": 108,
   "metadata": {},
   "outputs": [
    {
     "name": "stdout",
     "output_type": "stream",
     "text": [
      "0     641.2\n",
      "1     807.7\n",
      "2     879.8\n",
      "3     813.6\n",
      "4     738.0\n",
      "5     643.1\n",
      "6     518.4\n",
      "7     342.9\n",
      "8     307.0\n",
      "9     346.3\n",
      "10    331.6\n",
      "11    319.5\n",
      "12    341.0\n",
      "Name: Rainfall, dtype: float64\n"
     ]
    }
   ],
   "source": [
    "print(data.Rainfall)"
   ]
  },
  {
   "cell_type": "code",
   "execution_count": 109,
   "metadata": {},
   "outputs": [
    {
     "name": "stdout",
     "output_type": "stream",
     "text": [
      "0     4080\n",
      "1     4080\n",
      "2      687\n",
      "3     4672\n",
      "4     4080\n",
      "5     6080\n",
      "6     4009\n",
      "7     3673\n",
      "8        0\n",
      "9     4550\n",
      "10    3011\n",
      "11    3054\n",
      "12       0\n",
      "Name: Kharif, dtype: int64\n"
     ]
    }
   ],
   "source": [
    "print(data.Kharif)"
   ]
  },
  {
   "cell_type": "code",
   "execution_count": 110,
   "metadata": {},
   "outputs": [
    {
     "name": "stdout",
     "output_type": "stream",
     "text": [
      "['District' 'Kharif' 'Rabi' 'Total' 'Rainfall'\n",
      " 'Rainfall receive (October to December) ']\n"
     ]
    }
   ],
   "source": [
    "print(data.columns.values)"
   ]
  },
  {
   "cell_type": "code",
   "execution_count": 111,
   "metadata": {},
   "outputs": [],
   "source": [
    "import numpy as np\n",
    "import pandas as pd\n",
    "import matplotlib.pyplot as plt\n",
    "import seaborn as sns\n",
    "import mpl_toolkits\n",
    "%matplotlib inline"
   ]
  },
  {
   "cell_type": "code",
   "execution_count": 112,
   "metadata": {},
   "outputs": [],
   "source": [
    "X = data.iloc[ : , :  -1].values"
   ]
  },
  {
   "cell_type": "code",
   "execution_count": 113,
   "metadata": {},
   "outputs": [],
   "source": [
    "y = data.iloc[ : ,   1].values"
   ]
  },
  {
   "cell_type": "code",
   "execution_count": 114,
   "metadata": {},
   "outputs": [
    {
     "name": "stdout",
     "output_type": "stream",
     "text": [
      "    Rainfall\n",
      "0      641.2\n",
      "1      807.7\n",
      "2      879.8\n",
      "3      813.6\n",
      "4      738.0\n",
      "5      643.1\n",
      "6      518.4\n",
      "7      342.9\n",
      "8      307.0\n",
      "9      346.3\n",
      "10     331.6\n",
      "11     319.5\n",
      "12     341.0\n"
     ]
    }
   ],
   "source": [
    "X = data[['Rainfall']]\n",
    "print(X)"
   ]
  },
  {
   "cell_type": "code",
   "execution_count": 115,
   "metadata": {},
   "outputs": [],
   "source": [
    "import numpy as np\n",
    "import pandas as pd\n",
    "import matplotlib.pyplot as plt\n",
    "import seaborn as sns\n",
    "import mpl_toolkits\n",
    "%matplotlib inline"
   ]
  },
  {
   "cell_type": "code",
   "execution_count": 116,
   "metadata": {},
   "outputs": [],
   "source": [
    "y = data[['Kharif']]"
   ]
  },
  {
   "cell_type": "code",
   "execution_count": 117,
   "metadata": {},
   "outputs": [],
   "source": [
    "from sklearn.cross_validation import train_test_split"
   ]
  },
  {
   "cell_type": "code",
   "execution_count": 118,
   "metadata": {},
   "outputs": [],
   "source": [
    "x_train, x_test , y_train, y_test = train_test_split(X,y)"
   ]
  },
  {
   "cell_type": "code",
   "execution_count": 119,
   "metadata": {},
   "outputs": [],
   "source": [
    "from sklearn.linear_model import LinearRegression"
   ]
  },
  {
   "cell_type": "code",
   "execution_count": 120,
   "metadata": {},
   "outputs": [],
   "source": [
    "linreg = LinearRegression()"
   ]
  },
  {
   "cell_type": "code",
   "execution_count": 121,
   "metadata": {
    "scrolled": true
   },
   "outputs": [
    {
     "data": {
      "text/plain": [
       "LinearRegression(copy_X=True, fit_intercept=True, n_jobs=1, normalize=False)"
      ]
     },
     "execution_count": 121,
     "metadata": {},
     "output_type": "execute_result"
    }
   ],
   "source": [
    "linreg.fit(x_train,y_train)"
   ]
  },
  {
   "cell_type": "code",
   "execution_count": 122,
   "metadata": {},
   "outputs": [],
   "source": [
    "y_predict = linreg.predict(x_test)"
   ]
  },
  {
   "cell_type": "code",
   "execution_count": 125,
   "metadata": {},
   "outputs": [
    {
     "name": "stdout",
     "output_type": "stream",
     "text": [
      "[[2820.00346847]\n",
      " [2464.78384494]\n",
      " [3007.16337518]\n",
      " [2817.91781555]]\n"
     ]
    },
    {
     "data": {
      "image/png": "[encoded data removed]",
      "text/plain": [
       "<matplotlib.figure.Figure at 0x27157377d68>"
      ]
     },
     "metadata": {},
     "output_type": "display_data"
    }
   ],
   "source": [
    "\n",
    "\n",
    "plt.scatter(x_test,y_predict)\n",
    "print(y_predict)"
   ]
  }
 ],
 "metadata": {
  "kernelspec": {
   "display_name": "Python 3",
   "language": "python",
   "name": "python3"
  },
  "language_info": {
   "codemirror_mode": {
    "name": "ipython",
    "version": 3
   },
   "file_extension": ".py",
   "mimetype": "text/x-python",
   "name": "python",
   "nbconvert_exporter": "python",
   "pygments_lexer": "ipython3",
   "version": "3.6.4"
  }
 },
 "nbformat": 4,
 "nbformat_minor": 2
}
